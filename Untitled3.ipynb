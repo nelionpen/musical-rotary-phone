{
  "nbformat": 4,
  "nbformat_minor": 0,
  "metadata": {
    "colab": {
      "provenance": [],
      "authorship_tag": "ABX9TyMGxW5R7v+0TbSWmRER7zxf",
      "include_colab_link": true
    },
    "kernelspec": {
      "name": "python3",
      "display_name": "Python 3"
    },
    "language_info": {
      "name": "python"
    }
  },
  "cells": [
    {
      "cell_type": "markdown",
      "metadata": {
        "id": "view-in-github",
        "colab_type": "text"
      },
      "source": [
        "<a href=\"https://colab.research.google.com/github/nelionpen/musical-rotary-phone/blob/main/Untitled3.ipynb\" target=\"_parent\"><img src=\"https://colab.research.google.com/assets/colab-badge.svg\" alt=\"Open In Colab\"/></a>"
      ]
    },
    {
      "cell_type": "code",
      "source": [],
      "metadata": {
        "id": "fUjW0EOnfkd0"
      },
      "execution_count": null,
      "outputs": []
    },
    {
      "cell_type": "code",
      "execution_count": null,
      "metadata": {
        "id": "OJq4MG6heimy"
      },
      "outputs": [],
      "source": [
        "name = input('name')\n",
        "print(f'Greetings {name}! Welcome to your advature!')\n",
        "start =input('Would you rather to play  or exit?')\n",
        "if start == 'play':\n",
        "  print(\"Great! let's head into the advature!\")\n",
        "  setting = input('Want to go to Jungle or the Desert?')\n",
        "else:\n",
        "  print('To bad.It could be fun...')\n",
        "  quit()\n",
        "\n",
        "if setting == 'jungle':\n",
        "  print(\"Welcome to the amazon rainforest! Your guide said to wait for him here ...\")\n",
        "  response = input(\"He is gone for a long time ... Wil u follow him or stay?\")\n",
        "  if response == 'follow':\n",
        "       print('You follow the road that he took which led inside the thick forest of Amazon')\n",
        "  elif response =='wait':\n",
        "    print('U wait for him for some time')\n",
        "    response = input('Keep waitting or follow?')\n",
        "    if response == 'follow':\n",
        "       print('You follow the road that he tooks which led inside the thick forest of Amazon')\n",
        "  elif response == 'wait':\n",
        "    print('He finaly comming back! He said for some unknown reason the trip most be canceled.')\n",
        "    quit()\n",
        "  else:\n",
        "    print('invalid response, the game has ended  !')\n",
        "    quit()\n",
        "  follow = input(\"You saw him head towards the river,there is a canoe nearby.Will u follow by walking or canoe?\")\n",
        "  if follow == 'walk':\n",
        "    print('U start to follow the river deeper inside the forest.After some time u are feeling  something is looking u.As u turn around u see a jaguar leaping on u and kill u')\n",
        "    quit()\n",
        "  elif follow == 'canoe':\n",
        "    print('U pushed the canoe inside the water and start to paddle.As time goes by u see that the river is starting to getting wider and at the end of it is ur  guide waves at u.U are safe and exitting the forest')\n",
        "    quit()\n",
        "  else:\n",
        "    print('Invalid response, the game has ended!')\n",
        "    quit()\n",
        "elif setting == 'desert':\n",
        "  print (\"Welcome to the mighty Sahara Desert! Your guide said to wait for him here...\")\n",
        "  response = input(\"He is gone  for a long time .... Will u follow him or stay?\")\n",
        "  if response == 'follow':\n",
        "    print('You follow the road that he took which led deeper in the Desert')\n",
        "  elif response =='wait':\n",
        "    print('U wait for him some time')\n",
        "    response = input ('Keep waitting or follow?')\n",
        "    if response == 'follow':\n",
        "      print('You follow the road that he took which led deeper in the Desert')\n",
        "  elif response == 'wait':\n",
        "    print('He finaly comming back! He said in case of heatstroke the tour must end and we resume tomorrow')\n",
        "    quit()\n",
        "  else:\n",
        "    print('Invalid response, the game has ended')\n",
        "    quit()\n",
        "  follow = input (\"You saw him head towards the oasis ,there is a camel nearby.Will u follow by walking or camel?\")\n",
        "  if follow == 'walk':\n",
        "    print('U start talking the path ur guide just took.After some time the tempature start to rise.U tried to find a place to hide from the heat but u could and eventualy u pass out from the heatstroke.The only think that remained from u was your bones and some clothes')\n",
        "    quit()\n",
        "  elif follow == 'camel':\n",
        "     print('After u manage to make the camel stand up,u started to see somethink forming on the horizon.As u getting closer u see ur guide standing infront of something looked-like a hidden entrance.Both decide that u will explore it.When u get to the end u find the tresure full raare stones.You are a millionare now')\n",
        "     quit()\n",
        "  else:\n",
        "    print('Invalid response, the game has ended')\n",
        "    quit()\n",
        "  print()"
      ]
    }
  ]
}