{
  "nbformat": 4,
  "nbformat_minor": 0,
  "metadata": {
    "colab": {
      "provenance": [],
      "authorship_tag": "ABX9TyOtJr7VpeZMzdxrVqUpCgVW",
      "include_colab_link": true
    },
    "kernelspec": {
      "name": "python3",
      "display_name": "Python 3"
    },
    "language_info": {
      "name": "python"
    }
  },
  "cells": [
    {
      "cell_type": "markdown",
      "metadata": {
        "id": "view-in-github",
        "colab_type": "text"
      },
      "source": [
        "<a href=\"https://colab.research.google.com/github/nelionpen/musical-rotary-phone/blob/main/Untitled0.ipynb\" target=\"_parent\"><img src=\"https://colab.research.google.com/assets/colab-badge.svg\" alt=\"Open In Colab\"/></a>"
      ]
    },
    {
      "cell_type": "code",
      "execution_count": 2,
      "metadata": {
        "id": "d-30Q4fhYrjU"
      },
      "outputs": [],
      "source": [
        "# simple expense tracker"
      ]
    },
    {
      "cell_type": "code",
      "source": [
        "import numpy as np\n",
        "import pandas as pd\n",
        "from datetime import date"
      ],
      "metadata": {
        "id": "kwtwYTluY7qO"
      },
      "execution_count": 3,
      "outputs": []
    },
    {
      "cell_type": "code",
      "source": [
        "OBJECTIVES_OR_SERVICES = []\n",
        "PRICES = []\n",
        "EXPENCE_TYPES = []\n",
        "DATES = []"
      ],
      "metadata": {
        "id": "7ewBlG_RZMP2"
      },
      "execution_count": 10,
      "outputs": []
    },
    {
      "cell_type": "code",
      "source": [
        "def add_expence(objective_service,price,date,expence_type):\n",
        "  OBJECTIVES_OR_SERVICES.append(objective_service)\n",
        "  PRICES.append(price)\n",
        "  DATES.append(date)\n",
        "  EXPENCE_TYPES.append(expence_type)"
      ],
      "metadata": {
        "id": "MLifVCKCaP7E"
      },
      "execution_count": 11,
      "outputs": []
    },
    {
      "cell_type": "code",
      "source": [
        "option = -1\n",
        "while(option !=0):\n",
        "  print('welcome to the expence tracker')\n",
        "  print('1.Add Health Expense')\n",
        "  print('2.Add House Expence')\n",
        "  print('3.Add Transportation Expence')\n",
        "  print('4.Show and Save the Expence Report')\n",
        "  print('0.Exit ')\n",
        "  option =int(input('Choose an option:\\n'))\n",
        "\n",
        "  print()\n",
        "\n",
        "  if option ==0:\n",
        "    print('Adding Exiting the programm')\n",
        "    break\n",
        "  elif option == 1:\n",
        "    print ('Health care')\n",
        "    expence_type = 'COST of Hopsital'\n",
        "  elif option == 2:\n",
        "    print('Adding House Expence')\n",
        "    expence_type = 'RENT'\n",
        "  elif option == 3:\n",
        "    print('Adding Transportation Expence')\n",
        "    expence_type= 'Trasportation'\n",
        "  elif option == 4:\n",
        "\n",
        "    expence_report = pd.DataFrame()\n",
        "    expence_report['OBJECTIVE_OR_SERVICES'] = OBJECTIVES_OR_SERVICES\n",
        "    expence_report['PRICES'] = PRICES\n",
        "    expence_report['EXPENCE_TYPES'] = EXPENCE_TYPES\n",
        "    expence_report['DATES'] = DATES\n",
        "    expence_report.to_csv('expence.csv')\n",
        "    print(expence_report)\n",
        "  else:\n",
        "    print('You chose an incorect option.Please choose betweeen option 0,1,2,3 or 4')\n",
        "\n",
        "  if option == 1 or option == 2 or option == 3:\n",
        "    objective_or_service = input('Enter the objectives or services for the expence type'+expence_type+':\\n')\n",
        "    price = float(input('Enter the price of the objectives or services:\\n '))\n",
        "    today = date.today()\n",
        "    add_expence(objective_or_service,price,expence_type,today)\n",
        "\n",
        "    print()\n"
      ],
      "metadata": {
        "colab": {
          "base_uri": "https://localhost:8080/",
          "height": 1000
        },
        "id": "y2y1-Jx9bO3K",
        "outputId": "afb5a447-7ff7-4fb4-89eb-e6a06b3fe870"
      },
      "execution_count": 19,
      "outputs": [
        {
          "output_type": "stream",
          "name": "stdout",
          "text": [
            "welcome to the expence tracker\n",
            "1.Add Health Expense\n",
            "2.Add House Expence\n",
            "3.Add Transportation Expence\n",
            "4.Show and Save the Expence Report\n",
            "0.Exit \n",
            "Choose an option:\n",
            "1\n",
            "\n",
            "Health care\n",
            "Enter the objectives or services for the expence typeCOST of Hopsital:\n",
            "KAT\n",
            "Enter the price of the objectives or services:\n",
            " 60\n",
            "\n",
            "welcome to the expence tracker\n",
            "1.Add Health Expense\n",
            "2.Add House Expence\n",
            "3.Add Transportation Expence\n",
            "4.Show and Save the Expence Report\n",
            "0.Exit \n",
            "Choose an option:\n",
            "2\n",
            "\n",
            "Adding House Expence\n",
            "Enter the objectives or services for the expence typeRENT:\n",
            "RENT\n",
            "Enter the price of the objectives or services:\n",
            " 600\n",
            "\n",
            "welcome to the expence tracker\n",
            "1.Add Health Expense\n",
            "2.Add House Expence\n",
            "3.Add Transportation Expence\n",
            "4.Show and Save the Expence Report\n",
            "0.Exit \n",
            "Choose an option:\n",
            "3\n",
            "\n",
            "Adding Transportation Expence\n",
            "Enter the objectives or services for the expence typeTrasportation:\n",
            "GAS\n",
            "Enter the price of the objectives or services:\n",
            " 150\n",
            "\n",
            "welcome to the expence tracker\n",
            "1.Add Health Expense\n",
            "2.Add House Expence\n",
            "3.Add Transportation Expence\n",
            "4.Show and Save the Expence Report\n",
            "0.Exit \n",
            "Choose an option:\n",
            "4\n",
            "\n",
            "  OBJECTIVE_OR_SERVICES  PRICES EXPENCE_TYPES             DATES\n",
            "0                   KAT    60.0    2023-06-18  COST of Hopsital\n",
            "1                  RENT   600.0    2023-06-18              RENT\n",
            "2                   GAS   150.0    2023-06-18     Trasportation\n",
            "welcome to the expence tracker\n",
            "1.Add Health Expense\n",
            "2.Add House Expence\n",
            "3.Add Transportation Expence\n",
            "4.Show and Save the Expence Report\n",
            "0.Exit \n",
            "Choose an option:\n",
            "2\n",
            "\n",
            "Adding House Expence\n",
            "Enter the objectives or services for the expence typeRENT:\n",
            "Rent\n",
            "Enter the price of the objectives or services:\n",
            " 500\n",
            "\n",
            "welcome to the expence tracker\n",
            "1.Add Health Expense\n",
            "2.Add House Expence\n",
            "3.Add Transportation Expence\n",
            "4.Show and Save the Expence Report\n",
            "0.Exit \n",
            "Choose an option:\n",
            "3\n",
            "\n",
            "Adding Transportation Expence\n",
            "Enter the objectives or services for the expence typeTrasportation:\n",
            "Disel\n",
            "Enter the price of the objectives or services:\n",
            " 30\n",
            "\n",
            "welcome to the expence tracker\n",
            "1.Add Health Expense\n",
            "2.Add House Expence\n",
            "3.Add Transportation Expence\n",
            "4.Show and Save the Expence Report\n",
            "0.Exit \n",
            "Choose an option:\n",
            "1\n",
            "\n",
            "Health care\n",
            "Enter the objectives or services for the expence typeCOST of Hopsital:\n",
            "ATTIKO\n",
            "Enter the price of the objectives or services:\n",
            " 100\n",
            "\n",
            "welcome to the expence tracker\n",
            "1.Add Health Expense\n",
            "2.Add House Expence\n",
            "3.Add Transportation Expence\n",
            "4.Show and Save the Expence Report\n",
            "0.Exit \n",
            "Choose an option:\n",
            "4\n",
            "\n",
            "  OBJECTIVE_OR_SERVICES  PRICES EXPENCE_TYPES             DATES\n",
            "0                   KAT    60.0    2023-06-18  COST of Hopsital\n",
            "1                  RENT   600.0    2023-06-18              RENT\n",
            "2                   GAS   150.0    2023-06-18     Trasportation\n",
            "3                  Rent   500.0    2023-06-18              RENT\n",
            "4                 Disel    30.0    2023-06-18     Trasportation\n",
            "5                ATTIKO   100.0    2023-06-18  COST of Hopsital\n",
            "welcome to the expence tracker\n",
            "1.Add Health Expense\n",
            "2.Add House Expence\n",
            "3.Add Transportation Expence\n",
            "4.Show and Save the Expence Report\n",
            "0.Exit \n"
          ]
        },
        {
          "output_type": "error",
          "ename": "KeyboardInterrupt",
          "evalue": "ignored",
          "traceback": [
            "\u001b[0;31m---------------------------------------------------------------------------\u001b[0m",
            "\u001b[0;31mKeyboardInterrupt\u001b[0m                         Traceback (most recent call last)",
            "\u001b[0;32m<ipython-input-19-8919b5ee15e3>\u001b[0m in \u001b[0;36m<cell line: 2>\u001b[0;34m()\u001b[0m\n\u001b[1;32m      7\u001b[0m   \u001b[0mprint\u001b[0m\u001b[0;34m(\u001b[0m\u001b[0;34m'4.Show and Save the Expence Report'\u001b[0m\u001b[0;34m)\u001b[0m\u001b[0;34m\u001b[0m\u001b[0;34m\u001b[0m\u001b[0m\n\u001b[1;32m      8\u001b[0m   \u001b[0mprint\u001b[0m\u001b[0;34m(\u001b[0m\u001b[0;34m'0.Exit '\u001b[0m\u001b[0;34m)\u001b[0m\u001b[0;34m\u001b[0m\u001b[0;34m\u001b[0m\u001b[0m\n\u001b[0;32m----> 9\u001b[0;31m   \u001b[0moption\u001b[0m \u001b[0;34m=\u001b[0m\u001b[0mint\u001b[0m\u001b[0;34m(\u001b[0m\u001b[0minput\u001b[0m\u001b[0;34m(\u001b[0m\u001b[0;34m'Choose an option:\\n'\u001b[0m\u001b[0;34m)\u001b[0m\u001b[0;34m)\u001b[0m\u001b[0;34m\u001b[0m\u001b[0;34m\u001b[0m\u001b[0m\n\u001b[0m\u001b[1;32m     10\u001b[0m \u001b[0;34m\u001b[0m\u001b[0m\n\u001b[1;32m     11\u001b[0m   \u001b[0mprint\u001b[0m\u001b[0;34m(\u001b[0m\u001b[0;34m)\u001b[0m\u001b[0;34m\u001b[0m\u001b[0;34m\u001b[0m\u001b[0m\n",
            "\u001b[0;32m/usr/local/lib/python3.10/dist-packages/ipykernel/kernelbase.py\u001b[0m in \u001b[0;36mraw_input\u001b[0;34m(self, prompt)\u001b[0m\n\u001b[1;32m    849\u001b[0m                 \u001b[0;34m\"raw_input was called, but this frontend does not support input requests.\"\u001b[0m\u001b[0;34m\u001b[0m\u001b[0;34m\u001b[0m\u001b[0m\n\u001b[1;32m    850\u001b[0m             )\n\u001b[0;32m--> 851\u001b[0;31m         return self._input_request(str(prompt),\n\u001b[0m\u001b[1;32m    852\u001b[0m             \u001b[0mself\u001b[0m\u001b[0;34m.\u001b[0m\u001b[0m_parent_ident\u001b[0m\u001b[0;34m,\u001b[0m\u001b[0;34m\u001b[0m\u001b[0;34m\u001b[0m\u001b[0m\n\u001b[1;32m    853\u001b[0m             \u001b[0mself\u001b[0m\u001b[0;34m.\u001b[0m\u001b[0m_parent_header\u001b[0m\u001b[0;34m,\u001b[0m\u001b[0;34m\u001b[0m\u001b[0;34m\u001b[0m\u001b[0m\n",
            "\u001b[0;32m/usr/local/lib/python3.10/dist-packages/ipykernel/kernelbase.py\u001b[0m in \u001b[0;36m_input_request\u001b[0;34m(self, prompt, ident, parent, password)\u001b[0m\n\u001b[1;32m    893\u001b[0m             \u001b[0;32mexcept\u001b[0m \u001b[0mKeyboardInterrupt\u001b[0m\u001b[0;34m:\u001b[0m\u001b[0;34m\u001b[0m\u001b[0;34m\u001b[0m\u001b[0m\n\u001b[1;32m    894\u001b[0m                 \u001b[0;31m# re-raise KeyboardInterrupt, to truncate traceback\u001b[0m\u001b[0;34m\u001b[0m\u001b[0;34m\u001b[0m\u001b[0m\n\u001b[0;32m--> 895\u001b[0;31m                 \u001b[0;32mraise\u001b[0m \u001b[0mKeyboardInterrupt\u001b[0m\u001b[0;34m(\u001b[0m\u001b[0;34m\"Interrupted by user\"\u001b[0m\u001b[0;34m)\u001b[0m \u001b[0;32mfrom\u001b[0m \u001b[0;32mNone\u001b[0m\u001b[0;34m\u001b[0m\u001b[0;34m\u001b[0m\u001b[0m\n\u001b[0m\u001b[1;32m    896\u001b[0m             \u001b[0;32mexcept\u001b[0m \u001b[0mException\u001b[0m \u001b[0;32mas\u001b[0m \u001b[0me\u001b[0m\u001b[0;34m:\u001b[0m\u001b[0;34m\u001b[0m\u001b[0;34m\u001b[0m\u001b[0m\n\u001b[1;32m    897\u001b[0m                 \u001b[0mself\u001b[0m\u001b[0;34m.\u001b[0m\u001b[0mlog\u001b[0m\u001b[0;34m.\u001b[0m\u001b[0mwarning\u001b[0m\u001b[0;34m(\u001b[0m\u001b[0;34m\"Invalid Message:\"\u001b[0m\u001b[0;34m,\u001b[0m \u001b[0mexc_info\u001b[0m\u001b[0;34m=\u001b[0m\u001b[0;32mTrue\u001b[0m\u001b[0;34m)\u001b[0m\u001b[0;34m\u001b[0m\u001b[0;34m\u001b[0m\u001b[0m\n",
            "\u001b[0;31mKeyboardInterrupt\u001b[0m: Interrupted by user"
          ]
        }
      ]
    }
  ]
}