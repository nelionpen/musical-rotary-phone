{
  "nbformat": 4,
  "nbformat_minor": 0,
  "metadata": {
    "colab": {
      "provenance": [],
      "toc_visible": true,
      "authorship_tag": "ABX9TyOWjPQq0cWzbohDCnfvdV1u",
      "include_colab_link": true
    },
    "kernelspec": {
      "name": "python3",
      "display_name": "Python 3"
    },
    "language_info": {
      "name": "python"
    }
  },
  "cells": [
    {
      "cell_type": "markdown",
      "metadata": {
        "id": "view-in-github",
        "colab_type": "text"
      },
      "source": [
        "<a href=\"https://colab.research.google.com/github/nelionpen/musical-rotary-phone/blob/main/Untitled4.ipynb\" target=\"_parent\"><img src=\"https://colab.research.google.com/assets/colab-badge.svg\" alt=\"Open In Colab\"/></a>"
      ]
    },
    {
      "cell_type": "code",
      "execution_count": 23,
      "metadata": {
        "id": "Pllxe3l5JgAy"
      },
      "outputs": [],
      "source": [
        "import random\n",
        "import array\n",
        "import uuid\n"
      ]
    },
    {
      "cell_type": "code",
      "source": [
        "# Lenght of the password\n",
        "Leng = 15\n"
      ],
      "metadata": {
        "id": "EFYD8sLEJpRi"
      },
      "execution_count": 2,
      "outputs": []
    },
    {
      "cell_type": "code",
      "source": [
        "."
      ],
      "metadata": {
        "id": "NwiVum8gJ6UR"
      },
      "execution_count": 21,
      "outputs": []
    },
    {
      "cell_type": "code",
      "source": [
        "#Combines all the details above to one single array\n",
        "Combine_List = Numbers + Lowercase_Letters + Uppercase_Letters + Symbols"
      ],
      "metadata": {
        "id": "7xbhZFj-MjgW"
      },
      "execution_count": 9,
      "outputs": []
    },
    {
      "cell_type": "code",
      "source": [
        "+"
      ],
      "metadata": {
        "colab": {
          "base_uri": "https://localhost:8080/"
        },
        "id": "xbt6t0fwSxYu",
        "outputId": "8900abb3-763e-4a54-d18b-db2d281c2e61"
      },
      "execution_count": 26,
      "outputs": [
        {
          "output_type": "stream",
          "name": "stdout",
          "text": [
            "d8110a27-307d-4300-bb28-d91b99ab445b\n"
          ]
        }
      ]
    },
    {
      "cell_type": "code",
      "source": [
        "#Randomly select one character fron each character set from above\n",
        "rand_number = random.choice(Numbers)\n",
        "rand_lower = random.choice(Lowercase_Letters)\n",
        "rand_upper = random.choice(Uppercase_Letters)\n",
        "rand_symbol = random.choice(Symbols)"
      ],
      "metadata": {
        "id": "0rL3C-0MNC3X"
      },
      "execution_count": 13,
      "outputs": []
    },
    {
      "cell_type": "code",
      "source": [
        "#Combine the characters from above randomly\n",
        "#the lenght is only for characters\n",
        "#We want the lenght to be 15 characters\n",
        "temp_pass = rand_number + rand_lower + rand_upper + rand_symbol"
      ],
      "metadata": {
        "id": "YHor7-hmPDvS"
      },
      "execution_count": 14,
      "outputs": []
    },
    {
      "cell_type": "code",
      "source": [
        "#Now tha we have atleast one character from the above\n",
        "#we fill the rest of the password by selecting random from the combine list of\n",
        "#characters\n",
        "for x in range(Leng - 4):\n",
        "  temp_pass = temp_pass + random.choice(Combine_List)"
      ],
      "metadata": {
        "id": "Z_B60nm4QQE-"
      },
      "execution_count": 16,
      "outputs": []
    },
    {
      "cell_type": "code",
      "source": [
        "#convert the password into and array and shyffle it\n",
        "#to prevent having a consistent pattern\n",
        "#where the begging of the password is predictable\n",
        "temp_pass_list = array.array('u', temp_pass)\n",
        "random.shuffle(temp_pass_list)"
      ],
      "metadata": {
        "id": "JzjEASz3P5M0"
      },
      "execution_count": 17,
      "outputs": []
    },
    {
      "cell_type": "code",
      "source": [
        "#from the password array append the characters to form the password\n",
        "password = ''\n",
        "for x in temp_pass_list:\n",
        "        password = password + x"
      ],
      "metadata": {
        "id": "YhAYaRTSRX-O"
      },
      "execution_count": 19,
      "outputs": []
    },
    {
      "cell_type": "code",
      "source": [
        "#print the password\n",
        "print(password)"
      ],
      "metadata": {
        "colab": {
          "base_uri": "https://localhost:8080/"
        },
        "id": "8JbcYTGbR6xS",
        "outputId": "7cbb0b0b-fb1a-4523-85af-721d10c6d5ac"
      },
      "execution_count": 20,
      "outputs": [
        {
          "output_type": "stream",
          "name": "stdout",
          "text": [
            "zQUK*EP9ksJgoA^\n"
          ]
        }
      ]
    }
  ]
}